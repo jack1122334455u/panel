{
 "cells": [
  {
   "cell_type": "markdown",
   "metadata": {},
   "source": [
    "# Dev Experience"
   ]
  },
  {
   "cell_type": "code",
   "execution_count": null,
   "metadata": {},
   "outputs": [],
   "source": [
    "import time\n",
    "\n",
    "import param\n",
    "import panel as pn\n",
    "pn.extension()"
   ]
  },
  {
   "cell_type": "markdown",
   "metadata": {},
   "source": [
    "## Understanding Labels\n",
    "\n",
    "- Good: recommended, works.\n",
    "- Okay: works (with intended behavior), potentially inefficient.\n",
    "- Bad: Deprecated (may or may not work), just don't do it.\n",
    "- Wrong: Not intended behavior, won't really work.\n",
    "\n",
    "## Table of Contents\n",
    "\n",
    "- [Bind on reference value, not value](#bind-on-reference-value-not-value)\n",
    "- [Inherit from `pn.viewer.Viewer`](#inherit-from-pnviewerviewer)\n",
    "- [Build widgets from parameters](#build-widgets-from-parameters)\n",
    "- [Show templates in notebooks](#show-templates-in-notebooks)\n",
    "- [Yield to show intermediate values](#yield-to-show-intermediate-values)\n",
    "- [Watch side effects](#watch-side-effects)\n",
    "- [Refreshing layout objects](#refreshing-layout-objects)"
   ]
  },
  {
   "cell_type": "markdown",
   "metadata": {},
   "source": [
    "### Bind on reference value, not value"
   ]
  },
  {
   "cell_type": "markdown",
   "metadata": {},
   "source": [
    "#### Good\n",
    "\n",
    "Be sure to bind on `obj.param.{parameter}`, not just `{parameter}`."
   ]
  },
  {
   "cell_type": "code",
   "execution_count": null,
   "metadata": {},
   "outputs": [],
   "source": [
    "def show_clicks(clicks):\n",
    "    return f\"Number of clicks: {clicks}\"\n",
    "\n",
    "button = pn.widgets.Button(name=\"Click me!\")\n",
    "clicks = pn.bind(show_clicks, button.param.clicks)\n",
    "pn.Row(button, clicks)"
   ]
  },
  {
   "cell_type": "markdown",
   "metadata": {},
   "source": [
    "#### Wrong\n",
    "\n",
    "If only on `{parameter}`, it will not trigger an update on change."
   ]
  },
  {
   "cell_type": "code",
   "execution_count": null,
   "metadata": {},
   "outputs": [],
   "source": [
    "def show_clicks(clicks):\n",
    "    return f\"Number of clicks: {clicks}\"\n",
    "\n",
    "button = pn.widgets.Button(name=\"Click me!\")\n",
    "clicks = pn.bind(show_clicks, button.clicks)  # not button.clicks!\n",
    "pn.Row(button, clicks)"
   ]
  },
  {
   "cell_type": "markdown",
   "metadata": {},
   "source": [
    "### Inherit from `pn.viewer.Viewer`"
   ]
  },
  {
   "cell_type": "markdown",
   "metadata": {},
   "source": [
    "#### Good\n",
    "\n",
    "Instead of inheriting from `param.Parameterized`, using `pn.viewable.Viewer` allows direct invocation of the class, resembling a native Panel object.\n",
    "\n",
    "For example, it's possible to use `ExampleApp().servable()` instead of `ExampleApp().view().servable()`."
   ]
  },
  {
   "cell_type": "code",
   "execution_count": null,
   "metadata": {},
   "outputs": [],
   "source": [
    "class ExampleApp(pn.viewable.Viewer):\n",
    "\n",
    "    ...\n",
    "\n",
    "    def __panel__(self):\n",
    "        return pn.template.FastListTemplate(\n",
    "            main=[...],\n",
    "            sidebar=[...],\n",
    "        )\n",
    "\n",
    "ExampleApp().servable();  # semi-colon to suppress output in notebook"
   ]
  },
  {
   "cell_type": "markdown",
   "metadata": {},
   "source": [
    "#### Okay\n",
    "\n",
    "This method works, but should be reserved for cases where there's no Panel output."
   ]
  },
  {
   "cell_type": "code",
   "execution_count": null,
   "metadata": {},
   "outputs": [],
   "source": [
    "class ExampleApp(param.Parameterized):\n",
    "\n",
    "    ...\n",
    "\n",
    "    def view(self):\n",
    "        return pn.template.FastListTemplate(\n",
    "            main=[...],\n",
    "            sidebar=[...],\n",
    "        )\n",
    "\n",
    "ExampleApp().view().servable();  # semi-colon to suppress output in notebook"
   ]
  },
  {
   "cell_type": "markdown",
   "metadata": {},
   "source": [
    "### Build widgets from parameters"
   ]
  },
  {
   "cell_type": "markdown",
   "metadata": {},
   "source": [
    "#### Good\n",
    "\n",
    "To translate multiple parameters into widgets, use `pn.Param`."
   ]
  },
  {
   "cell_type": "code",
   "execution_count": null,
   "metadata": {},
   "outputs": [],
   "source": [
    "class ExampleApp(pn.viewable.Viewer):\n",
    "\n",
    "    width = param.Integer(default=100, bounds=(1, 200), label=\"Width of box\")\n",
    "    height = param.Integer(default=100, bounds=(1, 250), label=\"Height of box\")\n",
    "    color = param.Color(default=\"red\", label=\"Color of box\")\n",
    "\n",
    "    def __panel__(self):\n",
    "        return pn.Column(\n",
    "            pn.Param(self, widgets={\"height\": pn.widgets.IntInput}),\n",
    "            pn.pane.HTML(\n",
    "                width=self.param.width,\n",
    "                height=self.param.height,\n",
    "                styles={\"background-color\": self.param.color},\n",
    "            ),\n",
    "        )\n",
    "\n",
    "\n",
    "ExampleApp()"
   ]
  },
  {
   "cell_type": "markdown",
   "metadata": {},
   "source": [
    "#### Good\n",
    "\n",
    "You can also use `from_param` to manually build each component."
   ]
  },
  {
   "cell_type": "code",
   "execution_count": null,
   "metadata": {},
   "outputs": [],
   "source": [
    "class ExampleApp(pn.viewable.Viewer):\n",
    "\n",
    "    width = param.Integer(default=100, bounds=(1, 200), label=\"Width of box\")\n",
    "    height = param.Integer(default=100, bounds=(1, 250), label=\"Height of box\")\n",
    "    color = param.Color(default=\"red\", label=\"Color of box\")\n",
    "\n",
    "    def __panel__(self):\n",
    "        width_slider = pn.widgets.IntSlider.from_param(self.param.width)\n",
    "        height_input = pn.widgets.IntInput.from_param(self.param.height)\n",
    "        color_picker = pn.widgets.ColorPicker.from_param(self.param.color)\n",
    "        return pn.Column(\n",
    "            width_slider,\n",
    "            height_input,\n",
    "            color_picker,\n",
    "            pn.pane.HTML(\n",
    "                width=self.param.width,\n",
    "                height=self.param.height,\n",
    "                styles={\"background-color\": self.param.color},\n",
    "            ),\n",
    "        )\n",
    "\n",
    "\n",
    "ExampleApp()"
   ]
  },
  {
   "cell_type": "markdown",
   "metadata": {},
   "source": [
    "#### Bad\n",
    "\n",
    "If you instantiate individually through `param`, it's not bidirectional.\n"
   ]
  },
  {
   "cell_type": "code",
   "execution_count": null,
   "metadata": {},
   "outputs": [],
   "source": [
    "class ExampleApp(pn.viewable.Viewer):\n",
    "\n",
    "    width = param.Integer(default=100, bounds=(1, 200), label=\"Width of box\")\n",
    "    height = param.Integer(default=100, bounds=(1, 250), label=\"Height of box\")\n",
    "    color = param.Color(default=\"red\", label=\"Color of box\")\n",
    "\n",
    "    def __panel__(self):\n",
    "        width_slider = pn.widgets.IntSlider(\n",
    "            value=self.param.width,\n",
    "            start=self.param[\"width\"].bounds[0],\n",
    "            end=self.param[\"width\"].bounds[1],\n",
    "            name=self.param[\"width\"].label,\n",
    "        )\n",
    "        height_input = pn.widgets.IntInput(\n",
    "            value=self.param.height,\n",
    "            start=self.param[\"height\"].bounds[0],\n",
    "            end=self.param[\"height\"].bounds[1],\n",
    "            name=self.param[\"height\"].label,\n",
    "        )\n",
    "        color_picker = pn.widgets.ColorPicker(\n",
    "            value=self.param.color,\n",
    "            name=self.param[\"color\"].label,\n",
    "            width=200,\n",
    "        )\n",
    "        return pn.Column(\n",
    "            width_slider,\n",
    "            height_input,\n",
    "            color_picker,\n",
    "            pn.pane.HTML(\n",
    "                width=self.param.width,\n",
    "                height=self.param.height,\n",
    "                styles={\"background-color\": self.param.color},\n",
    "            ),\n",
    "        )\n",
    "\n",
    "\n",
    "ExampleApp()"
   ]
  },
  {
   "cell_type": "markdown",
   "metadata": {},
   "source": [
    "#### Bad\n",
    "\n",
    "It's possible to `link` each widget to `self` with `bidirectional=True`, but certain keyword arguments, like `bounds`, cannot be linked easily."
   ]
  },
  {
   "cell_type": "code",
   "execution_count": null,
   "metadata": {},
   "outputs": [],
   "source": [
    "class ExampleApp(pn.viewable.Viewer):\n",
    "\n",
    "    width = param.Integer(default=100, bounds=(1, 200), label=\"Width of box\")\n",
    "    height = param.Integer(default=100, bounds=(1, 250), label=\"Height of box\")\n",
    "    color = param.Color(default=\"red\", label=\"Color of box\")\n",
    "\n",
    "    def __panel__(self):\n",
    "        width_slider = pn.widgets.IntSlider()\n",
    "        height_input = pn.widgets.IntInput()\n",
    "        color_picker = pn.widgets.ColorPicker()\n",
    "\n",
    "        width_slider.link(self, value=\"width\", bidirectional=True)\n",
    "        height_input.link(self, value=\"height\", bidirectional=True)\n",
    "        color_picker.link(self, value=\"color\", bidirectional=True)\n",
    "\n",
    "        return pn.Column(\n",
    "            width_slider,\n",
    "            height_input,\n",
    "            color_picker,\n",
    "            pn.pane.HTML(\n",
    "                width=self.param.width,\n",
    "                height=self.param.height,\n",
    "                styles={\"background-color\": self.param.color},\n",
    "            ),\n",
    "        )\n",
    "\n",
    "\n",
    "ExampleApp()"
   ]
  },
  {
   "cell_type": "markdown",
   "metadata": {},
   "source": [
    "#### Wrong\n",
    "\n",
    "Widgets should not be used as parameters."
   ]
  },
  {
   "cell_type": "code",
   "execution_count": null,
   "metadata": {},
   "outputs": [],
   "source": [
    "class ExampleApp(pn.viewable.Viewer):\n",
    "\n",
    "    width = pn.widgets.IntSlider()\n",
    "    height = pn.widgets.IntInput()\n",
    "    color = pn.widgets.ColorPicker()\n"
   ]
  },
  {
   "cell_type": "markdown",
   "metadata": {},
   "source": [
    "### Show templates in notebooks"
   ]
  },
  {
   "cell_type": "markdown",
   "metadata": {},
   "source": [
    "#### Good\n",
    "\n",
    "Templates, at the time of writing, are not able to be rendered properly in Jupyter notebooks.\n",
    "\n",
    "To continue working with templates in notebooks, call `show` to pop up a new browser window."
   ]
  },
  {
   "cell_type": "code",
   "execution_count": null,
   "metadata": {},
   "outputs": [],
   "source": [
    "template = pn.template.FastListTemplate(\n",
    "    main=[...],\n",
    "    sidebar=[...],\n",
    ")\n",
    "\n",
    "# template.show()  # commented out to disable opening a new browser tab in example"
   ]
  },
  {
   "cell_type": "markdown",
   "metadata": {},
   "source": [
    "#### Okay\n",
    "\n",
    "Alternatively, you can use a barebones notebook template like the one below."
   ]
  },
  {
   "cell_type": "code",
   "execution_count": null,
   "metadata": {},
   "outputs": [],
   "source": [
    "class NotebookPlaceholderTemplate(pn.viewable.Viewer):\n",
    "    main = param.List()\n",
    "    sidebar = param.List()\n",
    "    header = param.List()\n",
    "    title = param.String()\n",
    "\n",
    "    def __panel__(self):\n",
    "        title = pn.pane.Markdown(f\"# {self.title}\", sizing_mode=\"stretch_width\")\n",
    "        # pastel blue\n",
    "        header_row = pn.Row(\n",
    "            title,\n",
    "            *self.header,\n",
    "            sizing_mode=\"stretch_width\",\n",
    "            styles={\"background\": \"#e6f2ff\"},\n",
    "        )\n",
    "        main_col = pn.WidgetBox(*self.main, sizing_mode=\"stretch_both\")\n",
    "        sidebar_col = pn.WidgetBox(\n",
    "            *self.sidebar, width=300, sizing_mode=\"stretch_height\"\n",
    "        )\n",
    "        return pn.Column(\n",
    "            header_row,\n",
    "            pn.Row(sidebar_col, main_col, sizing_mode=\"stretch_both\"),\n",
    "            sizing_mode=\"stretch_both\",\n",
    "            min_height=400,\n",
    "        )\n",
    "\n",
    "template = pn.template.FastListTemplate(\n",
    "    main=[...],\n",
    "    sidebar=[...],\n",
    ")\n",
    "template"
   ]
  },
  {
   "cell_type": "markdown",
   "metadata": {},
   "source": [
    "### Yield to show intermediate values\n",
    "\n",
    "#### Good\n",
    "\n",
    "Use a generator (yield) to provide incremental updates."
   ]
  },
  {
   "cell_type": "code",
   "execution_count": null,
   "metadata": {},
   "outputs": [],
   "source": [
    "def increment_to_value(value):\n",
    "    for i in range(value):\n",
    "        time.sleep(0.1)\n",
    "        yield i\n",
    "\n",
    "slider = pn.widgets.IntSlider(start=1, end=10)\n",
    "output = pn.bind(increment_to_value, slider.param.value_throttled)\n",
    "pn.Row(slider, output)"
   ]
  },
  {
   "cell_type": "markdown",
   "metadata": {},
   "source": [
    "### Watch side effects\n",
    "\n",
    "#### Good\n",
    "\n",
    "For functions that trigger side effects, i.e. do not return anything (or returns None), be sure to set `watch=True` on `pn.bind` or `pn.depends`."
   ]
  },
  {
   "cell_type": "code",
   "execution_count": null,
   "metadata": {},
   "outputs": [],
   "source": [
    "def print_clicks(clicks):\n",
    "    print(f\"Number of clicks: {clicks}\")\n",
    "\n",
    "button = pn.widgets.Button(name=\"Click me!\")\n",
    "pn.bind(print_clicks, button.param.clicks, watch=True)\n",
    "button"
   ]
  },
  {
   "cell_type": "markdown",
   "metadata": {},
   "source": [
    "#### Good\n",
    "\n",
    "For buttons, you can also use `on_click`."
   ]
  },
  {
   "cell_type": "code",
   "execution_count": null,
   "metadata": {},
   "outputs": [],
   "source": [
    "def print_clicks(event):\n",
    "    clicks = event.new\n",
    "    print(f\"Number of clicks: {clicks}\")\n",
    "\n",
    "button = pn.widgets.Button(name=\"Click me!\", on_click=print_clicks)\n",
    "button"
   ]
  },
  {
   "cell_type": "markdown",
   "metadata": {},
   "source": [
    "#### Okay\n",
    "\n",
    "For all other widgets, use `obj.param.watch()` for side effects."
   ]
  },
  {
   "cell_type": "code",
   "execution_count": null,
   "metadata": {},
   "outputs": [],
   "source": [
    "def print_clicks(event):\n",
    "    clicks = event.new\n",
    "    print(f\"Number of clicks: {clicks}\")\n",
    "\n",
    "button = pn.widgets.Button(name=\"Click me!\")\n",
    "button.param.watch(print_clicks, \"clicks\")\n",
    "button"
   ]
  },
  {
   "cell_type": "markdown",
   "metadata": {},
   "source": [
    "### Refreshing layout objects\n",
    "\n",
    "#### Good\n",
    "\n",
    "To refresh a layout's objects, set `objects`."
   ]
  },
  {
   "cell_type": "code",
   "execution_count": null,
   "metadata": {},
   "outputs": [],
   "source": [
    "def print_objects(event):\n",
    "    print(f\"Got new {[pane.object for pane in event.new]}\")\n",
    "\n",
    "col = pn.Column(\"a\", \"b\")\n",
    "pn.bind(print_objects, col.param.objects, watch=True)\n",
    "col"
   ]
  },
  {
   "cell_type": "code",
   "execution_count": null,
   "metadata": {},
   "outputs": [],
   "source": [
    "col.objects = [\"c\", *col.objects[1:]]"
   ]
  },
  {
   "cell_type": "markdown",
   "metadata": {},
   "source": [
    "#### Wrong\n",
    "\n",
    "Modifying container objects by index will not trigger the callback."
   ]
  },
  {
   "cell_type": "code",
   "execution_count": null,
   "metadata": {},
   "outputs": [],
   "source": [
    "def print_objects(event):\n",
    "    print(f\"Got new {event.new}\")\n",
    "\n",
    "col = pn.Column(\"a\", \"b\")\n",
    "col.param.watch(print_objects, \"objects\")\n",
    "col"
   ]
  },
  {
   "cell_type": "code",
   "execution_count": null,
   "metadata": {},
   "outputs": [],
   "source": [
    "col.objects[0] = [\"c\"]  # does not trigger"
   ]
  }
 ],
 "metadata": {
  "kernelspec": {
   "display_name": "panel_dev",
   "language": "python",
   "name": "python3"
  },
  "language_info": {
   "codemirror_mode": {
    "name": "ipython",
    "version": 3
   },
   "file_extension": ".py",
   "mimetype": "text/x-python",
   "name": "python",
   "nbconvert_exporter": "python",
   "pygments_lexer": "ipython3",
   "version": "3.10.6"
  }
 },
 "nbformat": 4,
 "nbformat_minor": 2
}
