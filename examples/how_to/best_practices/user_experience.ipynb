{
 "cells": [
  {
   "cell_type": "markdown",
   "metadata": {},
   "source": [
    "# User Experience"
   ]
  },
  {
   "cell_type": "code",
   "execution_count": null,
   "metadata": {},
   "outputs": [],
   "source": [
    "import time\n",
    "import random\n",
    "\n",
    "import param\n",
    "import pandas as pd\n",
    "import panel as pn\n",
    "\n",
    "pn.extension()"
   ]
  },
  {
   "cell_type": "markdown",
   "metadata": {},
   "source": []
  },
  {
   "cell_type": "markdown",
   "metadata": {},
   "source": [
    "## Understanding Labels\n",
    "\n",
    "- Good: recommended, works.\n",
    "- Okay: works (with intended behavior), potentially inefficient.\n",
    "- Bad: Deprecated (may or may not work), just don't do it.\n",
    "- Wrong: Not intended behavior, won't really work.\n",
    "\n",
    "## Table of Contents\n",
    "\n",
    "- [Update params effectively](#update-params-effectively)\n",
    "- [Throttle slider callbacks](#throttle-slider-callbacks)\n",
    "- [Defer expensive operations](#defer-expensive-operations)\n",
    "- [Show indicator while computing](#show-indicator-while-computing)\n",
    "- [Manage exceptions gracefully](#manage-exceptions-gracefully)\n",
    "- [Cache values for speed](#cache-values-for-speed)\n",
    "- [Preserve axes ranges on update](#preserve-axes-ranges-on-update)\n",
    "- [FlexBox instead of Column/Row](#flexbox-instead-of-columnrow)\n",
    "- [Reuse objects for efficiency](#reuse-objects-for-efficiency)"
   ]
  },
  {
   "cell_type": "markdown",
   "metadata": {},
   "source": [
    "### Update params effectively\n",
    "\n",
    "#### Good\n",
    "\n",
    "Use `obj.param.update`:\n",
    "- to update multiple parameters on an object simultaneously\n",
    "- as a context manager to temporarily set values, restoring original values on completion"
   ]
  },
  {
   "cell_type": "code",
   "execution_count": null,
   "metadata": {},
   "outputs": [],
   "source": [
    "def run(event):\n",
    "    with progress.param.update(\n",
    "        bar_color=\"primary\",\n",
    "        active=True,\n",
    "    ):\n",
    "        for i in range(0, 101):\n",
    "            time.sleep(0.01)\n",
    "            progress.value = i\n",
    "\n",
    "button = pn.widgets.Button(name=\"Run\", on_click=run)\n",
    "progress = pn.indicators.Progress(value=100, active=False, bar_color=\"dark\")\n",
    "pn.Row(button, progress)"
   ]
  },
  {
   "cell_type": "markdown",
   "metadata": {},
   "source": [
    "#### Okay\n",
    "\n",
    "The following shows setting parameters individually, which could be inefficient."
   ]
  },
  {
   "cell_type": "code",
   "execution_count": null,
   "metadata": {},
   "outputs": [],
   "source": [
    "def run(event):\n",
    "    try:\n",
    "        progress.bar_color = \"primary\"\n",
    "        progress.active = True\n",
    "        for i in range(0, 101):\n",
    "            time.sleep(0.01)\n",
    "            progress.value = i\n",
    "    finally:\n",
    "        progress.bar_color = \"dark\"\n",
    "        progress.active = False\n",
    "\n",
    "button = pn.widgets.Button(name=\"Run\", on_click=run)\n",
    "progress = pn.indicators.Progress(value=100, active=False, bar_color=\"dark\")\n",
    "pn.Row(button, progress)"
   ]
  },
  {
   "cell_type": "markdown",
   "metadata": {},
   "source": [
    "#### Good\n",
    "\n",
    "Use `batch_call_watchers` to update multiple params *on separate objects* simultaneously."
   ]
  },
  {
   "cell_type": "code",
   "execution_count": null,
   "metadata": {},
   "outputs": [],
   "source": [
    "class ExampleBar(pn.viewable.Viewer):\n",
    "\n",
    "    bar_color = \"dark\"\n",
    "    active = False\n",
    "\n",
    "    def __init__(self):\n",
    "        self.progress = pn.indicators.Progress(\n",
    "            value=100, active=self.param.active, bar_color=self.param.bar_color\n",
    "        )\n",
    "\n",
    "    def _process(self, event):\n",
    "        with param.parameterized.batch_call_watchers(self):\n",
    "            self._text_1.value = \"Hey\"\n",
    "            self._text_2.value = \"Hey\"\n",
    "\n",
    "    def __panel__(self):\n",
    "        return pn.Row(self._button, self._text_1, self._text_2)\n",
    "\n",
    "\n",
    "ExampleBar()"
   ]
  },
  {
   "cell_type": "markdown",
   "metadata": {},
   "source": [
    "### Throttle slider callbacks\n",
    "\n",
    "#### Good\n",
    "\n",
    "To prevent sliders from triggering excessive callbacks, set `throttled=True` so that it only triggers once upon mouse-up."
   ]
  },
  {
   "cell_type": "code",
   "execution_count": null,
   "metadata": {},
   "outputs": [],
   "source": [
    "pn.extension(throttled=True)\n",
    "\n",
    "def callback(value):\n",
    "    time.sleep(2)\n",
    "    return f\"# {value}\"\n",
    "\n",
    "slider = pn.widgets.IntSlider(end=10)\n",
    "output = pn.bind(callback, slider)\n",
    "pn.Row(slider, output)"
   ]
  },
  {
   "cell_type": "markdown",
   "metadata": {},
   "source": [
    "#### Good\n",
    "\n",
    "Alternatively, limit the scope by binding against `value_throttled` instead of `value`."
   ]
  },
  {
   "cell_type": "code",
   "execution_count": null,
   "metadata": {},
   "outputs": [],
   "source": [
    "def callback(value):\n",
    "    time.sleep(2)\n",
    "    return f\"# {value}\"\n",
    "\n",
    "slider = pn.widgets.IntSlider(end=10)\n",
    "output = pn.bind(callback, slider.param.value_throttled)\n",
    "pn.Row(slider, output)"
   ]
  },
  {
   "cell_type": "markdown",
   "metadata": {},
   "source": [
    "#### Bad\n",
    "\n",
    "If the operation is expensive, binding against `value` can be really slow."
   ]
  },
  {
   "cell_type": "code",
   "execution_count": null,
   "metadata": {},
   "outputs": [],
   "source": [
    "def callback(value):\n",
    "    time.sleep(2)\n",
    "    return f\"# {value}\"\n",
    "\n",
    "slider = pn.widgets.IntSlider(end=10)\n",
    "output = pn.bind(callback, slider.param.value)\n",
    "pn.Row(slider, output)"
   ]
  },
  {
   "cell_type": "markdown",
   "metadata": {},
   "source": [
    "### Defer expensive operations"
   ]
  },
  {
   "cell_type": "markdown",
   "metadata": {},
   "source": [
    "#### Good\n",
    "\n",
    "Its easy defer the execution of all bound and displayed functions with `pn.extension(defer_load=True)`."
   ]
  },
  {
   "cell_type": "code",
   "execution_count": null,
   "metadata": {},
   "outputs": [],
   "source": [
    "pn.extension(defer_load=True, loading_indicator=True)\n",
    "\n",
    "def onload():\n",
    "    time.sleep(5)  # simulate expensive operations\n",
    "    return pn.Column(\n",
    "        \"Welcome to this app!\",\n",
    "    )\n",
    "\n",
    "layout = pn.Column(\"Check this out!\", onload)\n",
    "# layout.show()"
   ]
  },
  {
   "cell_type": "markdown",
   "metadata": {},
   "source": [
    "#### Okay\n",
    "\n",
    "If you need finer control, start by instantiating the initial layout with placeholder `pn.Columns`, then populate it later in `onload`."
   ]
  },
  {
   "cell_type": "code",
   "execution_count": 28,
   "metadata": {},
   "outputs": [
    {
     "ename": "KeyboardInterrupt",
     "evalue": "",
     "output_type": "error",
     "traceback": [
      "\u001b[0;31m---------------------------------------------------------------------------\u001b[0m",
      "\u001b[0;31mKeyboardInterrupt\u001b[0m                         Traceback (most recent call last)",
      "Cell \u001b[0;32mIn [28], line 11\u001b[0m\n\u001b[1;32m      9\u001b[0m layout \u001b[38;5;241m=\u001b[39m pn\u001b[38;5;241m.\u001b[39mColumn(\u001b[38;5;124m\"\u001b[39m\u001b[38;5;124mLoading...\u001b[39m\u001b[38;5;124m\"\u001b[39m)\n\u001b[1;32m     10\u001b[0m display(layout)\n\u001b[0;32m---> 11\u001b[0m \u001b[43mpn\u001b[49m\u001b[38;5;241;43m.\u001b[39;49m\u001b[43mstate\u001b[49m\u001b[38;5;241;43m.\u001b[39;49m\u001b[43monload\u001b[49m\u001b[43m(\u001b[49m\u001b[43monload\u001b[49m\u001b[43m)\u001b[49m\n",
      "File \u001b[0;32m~/Applications/Developer/python/repos/panel/panel/io/state.py:703\u001b[0m, in \u001b[0;36m_state.onload\u001b[0;34m(self, callback, threaded)\u001b[0m\n\u001b[1;32m    701\u001b[0m         \u001b[38;5;28mself\u001b[39m\u001b[38;5;241m.\u001b[39mexecute(callback, schedule\u001b[38;5;241m=\u001b[39m\u001b[38;5;124m'\u001b[39m\u001b[38;5;124mthreaded\u001b[39m\u001b[38;5;124m'\u001b[39m)\n\u001b[1;32m    702\u001b[0m     \u001b[38;5;28;01melse\u001b[39;00m:\n\u001b[0;32m--> 703\u001b[0m         \u001b[38;5;28;43mself\u001b[39;49m\u001b[38;5;241;43m.\u001b[39;49m\u001b[43mexecute\u001b[49m\u001b[43m(\u001b[49m\u001b[43mcallback\u001b[49m\u001b[43m,\u001b[49m\u001b[43m \u001b[49m\u001b[43mschedule\u001b[49m\u001b[38;5;241;43m=\u001b[39;49m\u001b[38;5;28;43;01mFalse\u001b[39;49;00m\u001b[43m)\u001b[49m\n\u001b[1;32m    704\u001b[0m     \u001b[38;5;28;01mreturn\u001b[39;00m\n\u001b[1;32m    705\u001b[0m \u001b[38;5;28;01melif\u001b[39;00m \u001b[38;5;28mself\u001b[39m\u001b[38;5;241m.\u001b[39mcurdoc \u001b[38;5;129;01mnot\u001b[39;00m \u001b[38;5;129;01min\u001b[39;00m \u001b[38;5;28mself\u001b[39m\u001b[38;5;241m.\u001b[39m_onload:\n",
      "File \u001b[0;32m~/Applications/Developer/python/repos/panel/panel/io/state.py:635\u001b[0m, in \u001b[0;36m_state.execute\u001b[0;34m(self, callback, schedule)\u001b[0m\n\u001b[1;32m    633\u001b[0m \u001b[38;5;28;01melse\u001b[39;00m:\n\u001b[1;32m    634\u001b[0m     \u001b[38;5;28;01mtry\u001b[39;00m:\n\u001b[0;32m--> 635\u001b[0m         \u001b[43mcallback\u001b[49m\u001b[43m(\u001b[49m\u001b[43m)\u001b[49m\n\u001b[1;32m    636\u001b[0m     \u001b[38;5;28;01mexcept\u001b[39;00m \u001b[38;5;167;01mException\u001b[39;00m \u001b[38;5;28;01mas\u001b[39;00m e:\n\u001b[1;32m    637\u001b[0m         state\u001b[38;5;241m.\u001b[39m_handle_exception(e)\n",
      "Cell \u001b[0;32mIn [28], line 4\u001b[0m, in \u001b[0;36monload\u001b[0;34m()\u001b[0m\n\u001b[1;32m      3\u001b[0m \u001b[38;5;28;01mdef\u001b[39;00m \u001b[38;5;21monload\u001b[39m():\n\u001b[0;32m----> 4\u001b[0m     \u001b[43mtime\u001b[49m\u001b[38;5;241;43m.\u001b[39;49m\u001b[43msleep\u001b[49m\u001b[43m(\u001b[49m\u001b[38;5;241;43m1\u001b[39;49m\u001b[43m)\u001b[49m  \u001b[38;5;66;03m# simulate expensive operations\u001b[39;00m\n\u001b[1;32m      5\u001b[0m     layout\u001b[38;5;241m.\u001b[39mobjects \u001b[38;5;241m=\u001b[39m [\n\u001b[1;32m      6\u001b[0m         \u001b[38;5;124m\"\u001b[39m\u001b[38;5;124mWelcome to this app!\u001b[39m\u001b[38;5;124m\"\u001b[39m,\n\u001b[1;32m      7\u001b[0m     ]\n",
      "\u001b[0;31mKeyboardInterrupt\u001b[0m: "
     ]
    }
   ],
   "source": [
    "import time\n",
    "\n",
    "def onload():\n",
    "    time.sleep(1)  # simulate expensive operations\n",
    "    layout.objects = [\n",
    "        \"Welcome to this app!\",\n",
    "    ]\n",
    "\n",
    "layout = pn.Column(\"Loading...\")\n",
    "display(layout)\n",
    "pn.state.onload(onload)"
   ]
  },
  {
   "cell_type": "markdown",
   "metadata": {},
   "source": [
    "### Show indicator while computing\n",
    "\n",
    "#### Good\n",
    "\n",
    "Set `loading=True` to show a spinner while processing to let the user know it's working."
   ]
  },
  {
   "cell_type": "code",
   "execution_count": null,
   "metadata": {},
   "outputs": [],
   "source": [
    "def compute(event):\n",
    "    with layout.param.update(loading=True):\n",
    "        time.sleep(3)\n",
    "        layout.append(\"Computation complete!\")\n",
    "\n",
    "button = pn.widgets.Button(name=\"Compute\", on_click=compute)\n",
    "layout = pn.Column(\"Click below to compute\", button)\n",
    "\n",
    "layout"
   ]
  },
  {
   "cell_type": "markdown",
   "metadata": {},
   "source": [
    "#### Okay\n",
    "\n",
    "You can also wrap a `try/finally` to do the same thing."
   ]
  },
  {
   "cell_type": "code",
   "execution_count": null,
   "metadata": {},
   "outputs": [],
   "source": [
    "def compute(event):\n",
    "    try:\n",
    "        layout.loading = True\n",
    "        time.sleep(3)\n",
    "        layout.append(\"Computation complete!\")\n",
    "    finally:\n",
    "        layout.loading = False\n",
    "\n",
    "button = pn.widgets.Button(name=\"Compute\", on_click=compute)\n",
    "layout = pn.Column(\"Click below to compute\", button)\n",
    "\n",
    "layout"
   ]
  },
  {
   "cell_type": "markdown",
   "metadata": {},
   "source": [
    "### Manage exceptions gracefully\n",
    "\n",
    "#### Good\n",
    "\n",
    "Use:\n",
    "- `try` block to update values on success\n",
    "- `except` block to update values on exception\n",
    "- `finally` block to update values regardless"
   ]
  },
  {
   "cell_type": "code",
   "execution_count": null,
   "metadata": {},
   "outputs": [],
   "source": [
    "import time\n",
    "\n",
    "def compute(divisor):\n",
    "    try:\n",
    "        busy.value = True\n",
    "        time.sleep(1)\n",
    "        output = 1 / divisor\n",
    "        text.value = \"Success!\"\n",
    "    except Exception as exc:\n",
    "        output = \"Undefined\"\n",
    "        text.value = f\"Error: {exc}\"\n",
    "    finally:\n",
    "        busy.value = False\n",
    "    return f\"Output: {output}\"\n",
    "\n",
    "busy = pn.widgets.LoadingSpinner(width=10, height=10)\n",
    "text = pn.widgets.StaticText()\n",
    "\n",
    "slider = pn.widgets.IntSlider(name=\"Divisor\")\n",
    "output = pn.bind(compute, slider)\n",
    "\n",
    "layout = pn.Column(pn.Row(busy, text), slider, output)\n",
    "layout"
   ]
  },
  {
   "cell_type": "markdown",
   "metadata": {},
   "source": [
    "### Cache values for speed\n",
    "\n",
    "#### Good\n",
    "\n",
    "Wrap the decorator `pn.cache` for automatic handling."
   ]
  },
  {
   "cell_type": "code",
   "execution_count": null,
   "metadata": {},
   "outputs": [],
   "source": [
    "@pn.cache\n",
    "def callback(value):\n",
    "    time.sleep(2)    \n",
    "    return f\"# {value}\"\n",
    "\n",
    "slider = pn.widgets.IntSlider(end=3)\n",
    "output = pn.bind(callback, slider.param.value_throttled)\n",
    "pn.Row(slider, output)"
   ]
  },
  {
   "cell_type": "markdown",
   "metadata": {},
   "source": [
    "#### Okay\n",
    "\n",
    "Or, manually handle the cache with `pn.state.cache`."
   ]
  },
  {
   "cell_type": "code",
   "execution_count": null,
   "metadata": {},
   "outputs": [],
   "source": [
    "def callback(value):\n",
    "    output = pn.state.cache.get(value)\n",
    "    if output is None:\n",
    "        time.sleep(2)\n",
    "        output = f\"# {value}\"\n",
    "        pn.state.cache[value] = output\n",
    "    return output\n",
    "\n",
    "slider = pn.widgets.IntSlider(end=3)\n",
    "output = pn.bind(callback, slider.param.value_throttled)\n",
    "pn.Row(slider, output)"
   ]
  },
  {
   "cell_type": "markdown",
   "metadata": {},
   "source": [
    "### Preserve axes ranges on update\n",
    "\n",
    "#### Good\n",
    "\n",
    "To prevent the plot from resetting to its original axes ranges when zoomed in, simply wrap `hv.DynamicMap`."
   ]
  },
  {
   "cell_type": "code",
   "execution_count": null,
   "metadata": {},
   "outputs": [],
   "source": [
    "import numpy as np\n",
    "import holoviews as hv\n",
    "hv.extension(\"bokeh\")\n",
    "\n",
    "data = []\n",
    "\n",
    "def add_point(clicks):\n",
    "    data.append((np.random.random(), (np.random.random())))\n",
    "    return hv.Scatter(data)\n",
    "\n",
    "button = pn.widgets.Button(name=\"Add point\")\n",
    "plot = hv.DynamicMap(pn.bind(add_point, button.param.clicks))\n",
    "pn.Column(button, plot)"
   ]
  },
  {
   "cell_type": "markdown",
   "metadata": {},
   "source": [
    "#### Okay\n",
    "\n",
    "If you want the object to be completely refreshed, simply drop `hv.DynamicMap`. If it's a long computation, it's good to set `loading_indicator=True`."
   ]
  },
  {
   "cell_type": "code",
   "execution_count": null,
   "metadata": {},
   "outputs": [],
   "source": [
    "import numpy as np\n",
    "import holoviews as hv\n",
    "hv.extension(\"bokeh\")\n",
    "pn.extension(defer_load=True, loading_indicator=True)\n",
    "\n",
    "data = []\n",
    "\n",
    "def add_point(clicks):\n",
    "    data.append((np.random.random(), (np.random.random())))\n",
    "    return hv.Scatter(data)\n",
    "\n",
    "button = pn.widgets.Button(name=\"Add point\")\n",
    "plot = pn.bind(add_point, button.param.clicks)\n",
    "pn.Column(button, plot)"
   ]
  },
  {
   "cell_type": "markdown",
   "metadata": {},
   "source": [
    "### FlexBox instead of Column/Row\n",
    "\n",
    "#### Good\n",
    "\n",
    "`pn.FlexBox` automatically moves objects to another row/column, depending on the space available."
   ]
  },
  {
   "cell_type": "code",
   "execution_count": null,
   "metadata": {},
   "outputs": [],
   "source": [
    "rcolor = lambda: \"#%06x\" % random.randint(0, 0xFFFFFF)\n",
    "\n",
    "pn.FlexBox(\n",
    "    pn.pane.HTML(str(5), styles=dict(background=rcolor()), width=1000, height=100),\n",
    "    pn.pane.HTML(str(5), styles=dict(background=rcolor()), width=1000, height=100)\n",
    ")"
   ]
  },
  {
   "cell_type": "markdown",
   "metadata": {},
   "source": [
    "#### Okay\n",
    "\n",
    "`pn.Column`/`pn.Row` will overflow if the content is too long/wide."
   ]
  },
  {
   "cell_type": "code",
   "execution_count": null,
   "metadata": {},
   "outputs": [],
   "source": [
    "rcolor = lambda: \"#%06x\" % random.randint(0, 0xFFFFFF)\n",
    "\n",
    "pn.Row(\n",
    "    pn.pane.HTML(str(5), styles=dict(background=rcolor()), width=1000, height=100),\n",
    "    pn.pane.HTML(str(5), styles=dict(background=rcolor()), width=1000, height=100)\n",
    ")"
   ]
  },
  {
   "cell_type": "markdown",
   "metadata": {},
   "source": [
    "### Reuse objects for efficiency\n",
    "\n",
    "#### Good\n",
    "\n",
    "Imagine Panel components as placeholders and use them as such rather than re-creating them on update."
   ]
  },
  {
   "cell_type": "code",
   "execution_count": null,
   "metadata": {},
   "outputs": [],
   "source": [
    "def randomize(event):\n",
    "    df_pane.object = pd.DataFrame(np.random.randn(10, 3), columns=list(\"ABC\"))\n",
    "\n",
    "\n",
    "button = pn.widgets.Button(name=\"Compute\", on_click=randomize)\n",
    "df_pane = pn.pane.DataFrame()\n",
    "button.param.trigger(\"clicks\")  # initialize\n",
    "\n",
    "pn.Column(button, df_pane)"
   ]
  },
  {
   "cell_type": "markdown",
   "metadata": {},
   "source": [
    "#### Okay\n",
    "\n",
    "This instantiates the `pn.pane.DataFrame` on every click."
   ]
  },
  {
   "cell_type": "code",
   "execution_count": null,
   "metadata": {},
   "outputs": [],
   "source": [
    "def randomize(clicks):\n",
    "    return pn.pane.DataFrame(pd.DataFrame(np.random.randn(10, 3), columns=list(\"ABC\")))\n",
    "\n",
    "button = pn.widgets.Button(name=\"Compute\")\n",
    "df_pane = pn.bind(randomize, button.param.clicks)\n",
    "button.param.trigger(\"clicks\")  # initialize\n",
    "\n",
    "pn.Column(button, df_pane)"
   ]
  }
 ],
 "metadata": {
  "kernelspec": {
   "display_name": "panel_dev",
   "language": "python",
   "name": "python3"
  },
  "language_info": {
   "codemirror_mode": {
    "name": "ipython",
    "version": 3
   },
   "file_extension": ".py",
   "mimetype": "text/x-python",
   "name": "python",
   "nbconvert_exporter": "python",
   "pygments_lexer": "ipython3",
   "version": "3.10.6"
  }
 },
 "nbformat": 4,
 "nbformat_minor": 2
}
