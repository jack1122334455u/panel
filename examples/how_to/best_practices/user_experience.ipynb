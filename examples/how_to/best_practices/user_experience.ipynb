{
 "cells": [
  {
   "cell_type": "markdown",
   "metadata": {},
   "source": [
    "# User Experience"
   ]
  },
  {
   "cell_type": "code",
   "execution_count": null,
   "metadata": {},
   "outputs": [],
   "source": [
    "import time\n",
    "import random\n",
    "\n",
    "import param\n",
    "import pandas as pd\n",
    "import panel as pn\n",
    "\n",
    "pn.extension()"
   ]
  },
  {
   "cell_type": "markdown",
   "metadata": {},
   "source": [
    "## Understanding Labels\n",
    "\n",
    "- Good: recommended, works.\n",
    "- Okay: works (with intended behavior), potentially inefficient.\n",
    "- Bad: Deprecated (may or may not work), just don't do it.\n",
    "- Wrong: Not intended behavior, won't really work.\n",
    "\n",
    "## Table of Contents\n",
    "\n",
    "- [Update params effectively](#update-params-effectively)\n",
    "- [Throttle slider callbacks](#throttle-slider-callbacks)\n",
    "- [Defer expensive operations](#defer-expensive-operations)\n",
    "- [Show indicator while computing](#show-indicator-while-computing)\n",
    "- [Manage exceptions gracefully](#manage-exceptions-gracefully)\n",
    "- [Cache values for speed](#cache-values-for-speed)\n",
    "- [Preserve axes ranges on update](#preserve-axes-ranges-on-update)\n",
    "- [FlexBox instead of Column/Row](#flexbox-instead-of-columnrow)\n",
    "- [Reuse objects for efficiency](#reuse-objects-for-efficiency)"
   ]
  },
  {
   "cell_type": "markdown",
   "metadata": {},
   "source": [
    "### Update params effectively\n",
    "\n",
    "#### Good\n",
    "\n",
    "Use `obj.param.update`:\n",
    "- to update multiple parameters on an object simultaneously\n",
    "- as a context manager to temporarily set values, restoring original values on completion"
   ]
  },
  {
   "cell_type": "code",
   "execution_count": null,
   "metadata": {},
   "outputs": [],
   "source": [
    "def run(event):\n",
    "    with progress.param.update(\n",
    "        bar_color=\"primary\",\n",
    "        active=True,\n",
    "    ):\n",
    "        for i in range(0, 101):\n",
    "            time.sleep(0.01)\n",
    "            progress.value = i\n",
    "\n",
    "button = pn.widgets.Button(name=\"Run\", on_click=run)\n",
    "progress = pn.indicators.Progress(value=100, active=False, bar_color=\"dark\")\n",
    "pn.Row(button, progress)"
   ]
  },
  {
   "cell_type": "markdown",
   "metadata": {},
   "source": [
    "#### Okay\n",
    "\n",
    "The following shows setting parameters individually, which could be inefficient."
   ]
  },
  {
   "cell_type": "code",
   "execution_count": null,
   "metadata": {},
   "outputs": [],
   "source": [
    "def run(event):\n",
    "    try:\n",
    "        progress.bar_color = \"primary\"\n",
    "        progress.active = True\n",
    "        for i in range(0, 101):\n",
    "            time.sleep(0.01)\n",
    "            progress.value = i\n",
    "    finally:\n",
    "        progress.bar_color = \"dark\"\n",
    "        progress.active = False\n",
    "\n",
    "button = pn.widgets.Button(name=\"Run\", on_click=run)\n",
    "progress = pn.indicators.Progress(value=100, active=False, bar_color=\"dark\")\n",
    "pn.Row(button, progress)"
   ]
  },
  {
   "cell_type": "markdown",
   "metadata": {},
   "source": [
    "#### Good\n",
    "\n",
    "Use `batch_call_watchers` to update multiple params *on separate objects* simultaneously."
   ]
  },
  {
   "cell_type": "code",
   "execution_count": null,
   "metadata": {},
   "outputs": [],
   "source": [
    "class ExampleBar(pn.viewable.Viewer):\n",
    "\n",
    "    bar_color = param.String(default=\"dark\")\n",
    "    active = param.Boolean(default=False)\n",
    "\n",
    "    def __init__(self):\n",
    "        self._button = pn.widgets.Button(name=\"Run\", on_click=self._process)\n",
    "        self.progress = pn.indicators.Progress(\n",
    "            value=100, active=self.param.active, bar_color=self.param.bar_color\n",
    "        )\n",
    "        self._text_1 = pn.widgets.TextInput()\n",
    "        self._text_2 = pn.widgets.TextInput()\n",
    "\n",
    "    def _process(self, event):\n",
    "        with param.parameterized.batch_call_watchers(self):\n",
    "            self._text_1.value = \"Hey\"\n",
    "            self._text_2.value = \"Hey\"\n",
    "\n",
    "    def __panel__(self):\n",
    "        return pn.Row(self._button, self._text_1, self._text_2)\n",
    "\n",
    "\n",
    "ExampleBar()"
   ]
  },
  {
   "cell_type": "markdown",
   "metadata": {},
   "source": [
    "### Throttle slider callbacks\n",
    "\n",
    "#### Good\n",
    "\n",
    "To prevent sliders from triggering excessive callbacks, set `throttled=True` so that it only triggers once upon mouse-up."
   ]
  },
  {
   "cell_type": "code",
   "execution_count": null,
   "metadata": {},
   "outputs": [],
   "source": [
    "pn.extension(throttled=True)\n",
    "\n",
    "def callback(value):\n",
    "    time.sleep(2)\n",
    "    return f\"# {value}\"\n",
    "\n",
    "slider = pn.widgets.IntSlider(end=10)\n",
    "output = pn.bind(callback, slider)\n",
    "pn.Row(slider, output)"
   ]
  },
  {
   "cell_type": "markdown",
   "metadata": {},
   "source": [
    "#### Good\n",
    "\n",
    "Alternatively, limit the scope by binding against `value_throttled` instead of `value`."
   ]
  },
  {
   "cell_type": "code",
   "execution_count": null,
   "metadata": {},
   "outputs": [],
   "source": [
    "def callback(value):\n",
    "    time.sleep(2)\n",
    "    return f\"# {value}\"\n",
    "\n",
    "slider = pn.widgets.IntSlider(end=10)\n",
    "output = pn.bind(callback, slider.param.value_throttled)\n",
    "pn.Row(slider, output)"
   ]
  },
  {
   "cell_type": "markdown",
   "metadata": {},
   "source": [
    "#### Bad\n",
    "\n",
    "If the operation is expensive, binding against `value` can be really slow."
   ]
  },
  {
   "cell_type": "code",
   "execution_count": null,
   "metadata": {},
   "outputs": [],
   "source": [
    "def callback(value):\n",
    "    time.sleep(2)\n",
    "    return f\"# {value}\"\n",
    "\n",
    "slider = pn.widgets.IntSlider(end=10)\n",
    "output = pn.bind(callback, slider.param.value)\n",
    "pn.Row(slider, output)"
   ]
  },
  {
   "cell_type": "markdown",
   "metadata": {},
   "source": [
    "### Defer expensive operations"
   ]
  },
  {
   "cell_type": "markdown",
   "metadata": {},
   "source": [
    "#### Good\n",
    "\n",
    "Its easy defer the execution of all bound and displayed functions with `pn.extension(defer_load=True)`."
   ]
  },
  {
   "cell_type": "code",
   "execution_count": null,
   "metadata": {},
   "outputs": [],
   "source": [
    "pn.extension(defer_load=True, loading_indicator=True)\n",
    "\n",
    "def onload():\n",
    "    time.sleep(5)  # simulate expensive operations\n",
    "    return pn.Column(\n",
    "        \"Welcome to this app!\",\n",
    "    )\n",
    "\n",
    "layout = pn.Column(\"Check this out!\", onload)\n",
    "# layout.show()"
   ]
  },
  {
   "cell_type": "markdown",
   "metadata": {},
   "source": [
    "#### Okay\n",
    "\n",
    "If you need finer control, start by instantiating the initial layout with placeholder `pn.Columns`, then populate it later in `onload`."
   ]
  },
  {
   "cell_type": "code",
   "execution_count": null,
   "metadata": {},
   "outputs": [],
   "source": [
    "import time\n",
    "\n",
    "def onload():\n",
    "    time.sleep(1)  # simulate expensive operations\n",
    "    layout.objects = [\n",
    "        \"Welcome to this app!\",\n",
    "    ]\n",
    "\n",
    "layout = pn.Column(\"Loading...\")\n",
    "display(layout)\n",
    "pn.state.onload(onload)"
   ]
  },
  {
   "cell_type": "markdown",
   "metadata": {},
   "source": [
    "### Show indicator while computing\n",
    "\n",
    "#### Good\n",
    "\n",
    "Set `loading=True` to show a spinner while processing to let the user know it's working."
   ]
  },
  {
   "cell_type": "code",
   "execution_count": null,
   "metadata": {},
   "outputs": [],
   "source": [
    "def compute(event):\n",
    "    with layout.param.update(loading=True):\n",
    "        time.sleep(3)\n",
    "        layout.append(\"Computation complete!\")\n",
    "\n",
    "button = pn.widgets.Button(name=\"Compute\", on_click=compute)\n",
    "layout = pn.Column(\"Click below to compute\", button)\n",
    "\n",
    "layout"
   ]
  },
  {
   "cell_type": "markdown",
   "metadata": {},
   "source": [
    "#### Okay\n",
    "\n",
    "You can also wrap a `try/finally` to do the same thing."
   ]
  },
  {
   "cell_type": "code",
   "execution_count": null,
   "metadata": {},
   "outputs": [],
   "source": [
    "def compute(event):\n",
    "    try:\n",
    "        layout.loading = True\n",
    "        time.sleep(3)\n",
    "        layout.append(\"Computation complete!\")\n",
    "    finally:\n",
    "        layout.loading = False\n",
    "\n",
    "button = pn.widgets.Button(name=\"Compute\", on_click=compute)\n",
    "layout = pn.Column(\"Click below to compute\", button)\n",
    "\n",
    "layout"
   ]
  },
  {
   "cell_type": "markdown",
   "metadata": {},
   "source": [
    "### Manage exceptions gracefully\n",
    "\n",
    "#### Good\n",
    "\n",
    "Use:\n",
    "- `try` block to update values on success\n",
    "- `except` block to update values on exception\n",
    "- `finally` block to update values regardless"
   ]
  },
  {
   "cell_type": "code",
   "execution_count": null,
   "metadata": {},
   "outputs": [],
   "source": [
    "import time\n",
    "\n",
    "def compute(divisor):\n",
    "    try:\n",
    "        busy.value = True\n",
    "        time.sleep(1)\n",
    "        output = 1 / divisor\n",
    "        text.value = \"Success!\"\n",
    "    except Exception as exc:\n",
    "        output = \"Undefined\"\n",
    "        text.value = f\"Error: {exc}\"\n",
    "    finally:\n",
    "        busy.value = False\n",
    "    return f\"Output: {output}\"\n",
    "\n",
    "busy = pn.widgets.LoadingSpinner(width=10, height=10)\n",
    "text = pn.widgets.StaticText()\n",
    "\n",
    "slider = pn.widgets.IntSlider(name=\"Divisor\")\n",
    "output = pn.bind(compute, slider)\n",
    "\n",
    "layout = pn.Column(pn.Row(busy, text), slider, output)\n",
    "layout"
   ]
  },
  {
   "cell_type": "markdown",
   "metadata": {},
   "source": [
    "### Cache values for speed\n",
    "\n",
    "#### Good\n",
    "\n",
    "Wrap the decorator `pn.cache` for automatic handling."
   ]
  },
  {
   "cell_type": "code",
   "execution_count": null,
   "metadata": {},
   "outputs": [],
   "source": [
    "@pn.cache\n",
    "def callback(value):\n",
    "    time.sleep(2)    \n",
    "    return f\"# {value}\"\n",
    "\n",
    "slider = pn.widgets.IntSlider(end=3)\n",
    "output = pn.bind(callback, slider.param.value_throttled)\n",
    "pn.Row(slider, output)"
   ]
  },
  {
   "cell_type": "markdown",
   "metadata": {},
   "source": [
    "#### Okay\n",
    "\n",
    "Or, manually handle the cache with `pn.state.cache`."
   ]
  },
  {
   "cell_type": "code",
   "execution_count": null,
   "metadata": {},
   "outputs": [],
   "source": [
    "def callback(value):\n",
    "    output = pn.state.cache.get(value)\n",
    "    if output is None:\n",
    "        time.sleep(2)\n",
    "        output = f\"# {value}\"\n",
    "        pn.state.cache[value] = output\n",
    "    return output\n",
    "\n",
    "slider = pn.widgets.IntSlider(end=3)\n",
    "output = pn.bind(callback, slider.param.value_throttled)\n",
    "pn.Row(slider, output)"
   ]
  },
  {
   "cell_type": "markdown",
   "metadata": {},
   "source": [
    "### Preserve axes ranges on update\n",
    "\n",
    "#### Good\n",
    "\n",
    "To prevent the plot from resetting to its original axes ranges when zoomed in, simply wrap `hv.DynamicMap`."
   ]
  },
  {
   "cell_type": "code",
   "execution_count": null,
   "metadata": {},
   "outputs": [],
   "source": [
    "import numpy as np\n",
    "import holoviews as hv\n",
    "hv.extension(\"bokeh\")\n",
    "\n",
    "data = []\n",
    "\n",
    "def add_point(clicks):\n",
    "    data.append((np.random.random(), (np.random.random())))\n",
    "    return hv.Scatter(data)\n",
    "\n",
    "button = pn.widgets.Button(name=\"Add point\")\n",
    "plot = hv.DynamicMap(pn.bind(add_point, button.param.clicks))\n",
    "pn.Column(button, plot)"
   ]
  },
  {
   "cell_type": "markdown",
   "metadata": {},
   "source": [
    "#### Okay\n",
    "\n",
    "If you want the object to be completely refreshed, simply drop `hv.DynamicMap`. If it's a long computation, it's good to set `loading_indicator=True`."
   ]
  },
  {
   "cell_type": "code",
   "execution_count": null,
   "metadata": {},
   "outputs": [],
   "source": [
    "import numpy as np\n",
    "import holoviews as hv\n",
    "hv.extension(\"bokeh\")\n",
    "pn.extension(defer_load=True, loading_indicator=True)\n",
    "\n",
    "data = []\n",
    "\n",
    "def add_point(clicks):\n",
    "    data.append((np.random.random(), (np.random.random())))\n",
    "    return hv.Scatter(data)\n",
    "\n",
    "button = pn.widgets.Button(name=\"Add point\")\n",
    "plot = pn.bind(add_point, button.param.clicks)\n",
    "pn.Column(button, plot)"
   ]
  },
  {
   "cell_type": "markdown",
   "metadata": {},
   "source": [
    "### FlexBox instead of Column/Row\n",
    "\n",
    "#### Good\n",
    "\n",
    "`pn.FlexBox` automatically moves objects to another row/column, depending on the space available."
   ]
  },
  {
   "cell_type": "code",
   "execution_count": null,
   "metadata": {},
   "outputs": [],
   "source": [
    "rcolor = lambda: \"#%06x\" % random.randint(0, 0xFFFFFF)\n",
    "\n",
    "pn.FlexBox(\n",
    "    pn.pane.HTML(str(5), styles=dict(background=rcolor()), width=1000, height=100),\n",
    "    pn.pane.HTML(str(5), styles=dict(background=rcolor()), width=1000, height=100)\n",
    ")"
   ]
  },
  {
   "cell_type": "markdown",
   "metadata": {},
   "source": [
    "#### Okay\n",
    "\n",
    "`pn.Column`/`pn.Row` will overflow if the content is too long/wide."
   ]
  },
  {
   "cell_type": "code",
   "execution_count": null,
   "metadata": {},
   "outputs": [],
   "source": [
    "rcolor = lambda: \"#%06x\" % random.randint(0, 0xFFFFFF)\n",
    "\n",
    "pn.Row(\n",
    "    pn.pane.HTML(str(5), styles=dict(background=rcolor()), width=1000, height=100),\n",
    "    pn.pane.HTML(str(5), styles=dict(background=rcolor()), width=1000, height=100)\n",
    ")"
   ]
  },
  {
   "cell_type": "markdown",
   "metadata": {},
   "source": [
    "### Reuse objects for efficiency\n",
    "\n",
    "#### Good\n",
    "\n",
    "Imagine Panel components as placeholders and use them as such rather than re-creating them on update."
   ]
  },
  {
   "cell_type": "code",
   "execution_count": null,
   "metadata": {},
   "outputs": [],
   "source": [
    "def randomize(event):\n",
    "    df_pane.object = pd.DataFrame(np.random.randn(10, 3), columns=list(\"ABC\"))\n",
    "\n",
    "\n",
    "button = pn.widgets.Button(name=\"Compute\", on_click=randomize)\n",
    "df_pane = pn.pane.DataFrame()\n",
    "button.param.trigger(\"clicks\")  # initialize\n",
    "\n",
    "pn.Column(button, df_pane)"
   ]
  },
  {
   "cell_type": "markdown",
   "metadata": {},
   "source": [
    "#### Okay\n",
    "\n",
    "This instantiates the `pn.pane.DataFrame` on every click."
   ]
  },
  {
   "cell_type": "code",
   "execution_count": null,
   "metadata": {},
   "outputs": [],
   "source": [
    "def randomize(clicks):\n",
    "    return pn.pane.DataFrame(pd.DataFrame(np.random.randn(10, 3), columns=list(\"ABC\")))\n",
    "\n",
    "button = pn.widgets.Button(name=\"Compute\")\n",
    "df_pane = pn.bind(randomize, button.param.clicks)\n",
    "button.param.trigger(\"clicks\")  # initialize\n",
    "\n",
    "pn.Column(button, df_pane)"
   ]
  }
 ],
 "metadata": {
  "language_info": {
   "name": "python",
   "pygments_lexer": "ipython3"
  }
 },
 "nbformat": 4,
 "nbformat_minor": 2
}
